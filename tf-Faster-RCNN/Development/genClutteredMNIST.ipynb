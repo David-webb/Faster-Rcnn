{
 "cells": [
  {
   "cell_type": "code",
   "execution_count": 1,
   "metadata": {
    "collapsed": true
   },
   "outputs": [],
   "source": [
    "from tensorflow.examples.tutorials.mnist import input_data\n",
    "import matplotlib.patches as patches\n",
    "import matplotlib.pyplot as plt\n",
    "import numpy as np\n",
    "import os\n",
    "import random\n",
    "from scipy.ndimage.interpolation import zoom\n",
    "from scipy.misc import imsave, imshow\n",
    "import shutil"
   ]
  },
  {
   "cell_type": "code",
   "execution_count": 2,
   "metadata": {
    "collapsed": true
   },
   "outputs": [],
   "source": [
    "def load_data():\n",
    "    \"\"\" Download MNIST data from TensorFlow package, \"\"\"\n",
    "    mnist = input_data.read_data_sets(\"MNIST_data\", one_hot=False)\n",
    "    train_data = mnist.train.images\n",
    "    test_data = mnist.test.images\n",
    "    valid_data = mnist.validation.images\n",
    "    train_label = mnist.train.labels\n",
    "    test_label = mnist.test.labels\n",
    "    valid_label = mnist.validation.labels\n",
    "    all_data = [valid_data, train_data, test_data]\n",
    "    all_labels = [valid_label, train_label, test_label]\n",
    "    return all_data, all_labels"
   ]
  },
  {
   "cell_type": "code",
   "execution_count": 3,
   "metadata": {
    "collapsed": false
   },
   "outputs": [
    {
     "name": "stdout",
     "output_type": "stream",
     "text": [
      "Successfully downloaded train-images-idx3-ubyte.gz 9912422 bytes.\n",
      "Extracting MNIST_data/train-images-idx3-ubyte.gz\n",
      "Successfully downloaded train-labels-idx1-ubyte.gz 28881 bytes.\n",
      "Extracting MNIST_data/train-labels-idx1-ubyte.gz\n",
      "Successfully downloaded t10k-images-idx3-ubyte.gz 1648877 bytes.\n",
      "Extracting MNIST_data/t10k-images-idx3-ubyte.gz\n",
      "Successfully downloaded t10k-labels-idx1-ubyte.gz 4542 bytes.\n",
      "Extracting MNIST_data/t10k-labels-idx1-ubyte.gz\n"
     ]
    }
   ],
   "source": [
    "all_data, all_labels = load_data()\n",
    "shutil.rmtree(\"MNIST_data\")"
   ]
  },
  {
   "cell_type": "code",
   "execution_count": 4,
   "metadata": {
    "collapsed": false
   },
   "outputs": [
    {
     "data": {
      "image/png": "[encoded data removed]",
      "text/plain": [
       "<matplotlib.figure.Figure at 0x7f2290cc17b8>"
      ]
     },
     "metadata": {},
     "output_type": "display_data"
    },
    {
     "name": "stdout",
     "output_type": "stream",
     "text": [
      "8\n"
     ]
    }
   ],
   "source": [
    "example_idx = random.randint(0,50000)\n",
    "data = all_data[1]\n",
    "labels = all_labels[1]\n",
    "\n",
    "image = data[example_idx].reshape((28,28))\n",
    "image_dim = 128\n",
    "label_np = labels[example_idx].astype(\"int32\")\n",
    "label = label_np.tolist()\n",
    "\n",
    "plt.imshow(image)\n",
    "plt.show()\n",
    "print(label)"
   ]
  },
  {
   "cell_type": "code",
   "execution_count": 5,
   "metadata": {
    "collapsed": true
   },
   "outputs": [],
   "source": [
    "def generate_cluttered_digit(input_image, image_dim, label, data):\n",
    "    \"\"\"\n",
    "    :param input_image: input image to be stored\n",
    "    :param image_dim: int, side length of square image\n",
    "    :param data: entire dataset in memory from which we will pick fragments\n",
    "    :param label: single integer representing the digit in the cluttered image\n",
    "    :return: image_out: ndarray size image_dim x image_dim with digit randomly placed with\n",
    "    8 x 8 patches of images with input noise.\n",
    "    \"\"\"\n",
    "\n",
    "    # Initialize Blank image_out\n",
    "    image_out = np.zeros([image_dim, image_dim])\n",
    "\n",
    "    # Randomly Scale image\n",
    "    h = np.random.randint(low=int(28/2), high=int(28*2))\n",
    "    w = np.random.randint(low=int(28/2), high=int(28*2))\n",
    "    digit = zoom(input_image, (h/28, w/28))\n",
    "\n",
    "    # Randomly choose location in image_out\n",
    "    x = np.random.randint(low=0, high=image_dim - w)\n",
    "    y = np.random.randint(low=0, high=image_dim - h)\n",
    "\n",
    "    # Insert digit into image_out and get max\n",
    "    image_out[y:y + h, x:x + w] += digit\n",
    "    max_val = image_out.max()\n",
    "    \n",
    "    # Tighten box\n",
    "    rows = np.sum(image_out,axis=0).round(1)\n",
    "    cols = np.sum(image_out,axis=1).round(1)\n",
    "    \n",
    "    left = np.nonzero(rows)[0][0]\n",
    "    right = np.nonzero(rows)[0][-1]\n",
    "    upper = np.nonzero(cols)[0][0]\n",
    "    lower = np.nonzero(cols)[0][-1]\n",
    "    \n",
    "    # If box is too narrow or too short, pad it out to >12\n",
    "    width = right - left\n",
    "    if width < 12:\n",
    "        pad = np.ceil((12 - width)/2)\n",
    "        left  = int(left - pad)\n",
    "        right = int(right + pad)\n",
    "    \n",
    "    height = lower - upper\n",
    "    if height < 12:\n",
    "        pad = np.ceil((12 - height)/2)\n",
    "        upper = int(upper - pad)\n",
    "        lower = int(lower + pad)\n",
    "\n",
    "    # Save Ground Truth Bounding boxes with Label in 4th position\n",
    "    if label == 0:  # Faster RCNN regards 0 as background, so change the label for all zeros to 10\n",
    "        label = 10\n",
    "    gt_box = [left, upper, right, lower, label]\n",
    "    \n",
    "    # Track \"energy\" in gt_box (to prevent clutter insertion)\n",
    "    energy = np.sum(image_out[upper:lower, left:right])\n",
    "\n",
    "    # Add in total number of clutter patches\n",
    "    for j in range(int(image_dim/4)):\n",
    "\n",
    "        # Randomly select MNIST digit\n",
    "        index = np.random.choice(len(data))\n",
    "        fragment = np.reshape(data[index, :], (28, 28))\n",
    "\n",
    "        # Randomly select patch of selected digit\n",
    "        px = np.random.randint(low=0, high=28 - 8)\n",
    "        py = np.random.randint(low=0, high=28 - 8)\n",
    "\n",
    "        # Randomly choose location to insert clutter\n",
    "        x = np.random.randint(low=0, high=image_dim - 8)\n",
    "        y = np.random.randint(low=0, high=image_dim - 8)\n",
    "            \n",
    "        # Insert digit fragment  \n",
    "        image_out[y:(y+8), x:(x+8)] += fragment[py:(py+8), px:(px+8)]\n",
    "        \n",
    "        # Don't insert clutter into the true bounding box\n",
    "        new_energy = np.sum(image_out[upper:lower, left:right])\n",
    "        if energy != new_energy:\n",
    "            print(\"invading space \" + str(x) + \" \" + str(y))\n",
    "            image_out[y:(y+8), x:(x+8)] -= fragment[py:(py+8), px:(px+8)]\n",
    "            continue\n",
    "        \n",
    "    # Normalize any over-saturated pixels\n",
    "    image_out = np.clip(image_out, 0, max_val)\n",
    "        \n",
    "    # Subtract mean from image and scale to be between -1 and 1\n",
    "    image_out -= image_out.mean()\n",
    "    image_out = image_out / np.abs(image_out).max()\n",
    "\n",
    "    return image_out, gt_box"
   ]
  },
  {
   "cell_type": "code",
   "execution_count": 6,
   "metadata": {
    "collapsed": false
   },
   "outputs": [
    {
     "name": "stdout",
     "output_type": "stream",
     "text": [
      "invading space 90 42\n",
      "invading space 99 60\n",
      "invading space 109 42\n",
      "invading space 100 68\n"
     ]
    },
    {
     "data": {
      "image/png": "[encoded data removed]",
      "text/plain": [
       "<matplotlib.figure.Figure at 0x7f228e11f208>"
      ]
     },
     "metadata": {},
     "output_type": "display_data"
    },
    {
     "name": "stdout",
     "output_type": "stream",
     "text": [
      "[93, 44, 114, 78, 8]\n",
      "21\n"
     ]
    }
   ],
   "source": [
    "pixels, gt_box = generate_cluttered_digit(image, image_dim, label, data)\n",
    "fig, ax = plt.subplots(1)\n",
    "ax.imshow(pixels)\n",
    "height = gt_box[3] - gt_box[1]\n",
    "width = gt_box[2] - gt_box[0]\n",
    "rect = patches.Rectangle((gt_box[0], gt_box[1]), width, height, linewidth=2, edgecolor='r', facecolor='none')\n",
    "ax.add_patch(rect)\n",
    "plt.show()\n",
    "print(gt_box)\n",
    "print(gt_box[2]-gt_box[0])"
   ]
  }
 ],
 "metadata": {
  "anaconda-cloud": {},
  "kernelspec": {
   "display_name": "Python [conda env:tensorflow]",
   "language": "python",
   "name": "conda-env-tensorflow-py"
  },
  "language_info": {
   "codemirror_mode": {
    "name": "ipython",
    "version": 3
   },
   "file_extension": ".py",
   "mimetype": "text/x-python",
   "name": "python",
   "nbconvert_exporter": "python",
   "pygments_lexer": "ipython3",
   "version": "3.5.2"
  }
 },
 "nbformat": 4,
 "nbformat_minor": 1
}
